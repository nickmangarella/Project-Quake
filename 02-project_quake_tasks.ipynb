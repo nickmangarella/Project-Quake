{
 "cells": [
  {
   "cell_type": "markdown",
   "metadata": {},
   "source": [
    "1.Load the required data"
   ]
  },
  {
   "cell_type": "markdown",
   "metadata": {},
   "source": [
    "2.Merge and clean the data"
   ]
  },
  {
   "cell_type": "markdown",
   "metadata": {},
   "source": [
    "3.Summary statistics mean, quartiles min, max, SD , count - Jordan"
   ]
  },
  {
   "cell_type": "markdown",
   "metadata": {},
   "source": [
    "4.Initial plot - depth vs magnitude  - Min"
   ]
  },
  {
   "cell_type": "markdown",
   "metadata": {},
   "source": [
    "5.Initial plot -  sig vs magnitude   - Min"
   ]
  },
  {
   "cell_type": "markdown",
   "metadata": {},
   "source": [
    "6.Correlation between depth and magnitude ( whole data) - Min"
   ]
  },
  {
   "cell_type": "markdown",
   "metadata": {},
   "source": [
    "7.Correlation between sig and magnitude - Min"
   ]
  },
  {
   "cell_type": "markdown",
   "metadata": {},
   "source": [
    "8.Frequency of earthquake in years (line/bar) - Min"
   ]
  },
  {
   "cell_type": "markdown",
   "metadata": {},
   "source": [
    "9.Largest Earthquakes over time ( medium, high) / Most devastating earthquakes - gmaps - Nick"
   ]
  },
  {
   "cell_type": "markdown",
   "metadata": {},
   "source": [
    "10.Top 10 most hit countries ( narrow down by year) - Min"
   ]
  },
  {
   "cell_type": "markdown",
   "metadata": {},
   "source": [
    "11.US - By state recent years   - Sushama"
   ]
  },
  {
   "cell_type": "markdown",
   "metadata": {},
   "source": [
    "12.US - by year recent years  - Sushama "
   ]
  },
  {
   "cell_type": "markdown",
   "metadata": {},
   "source": [
    "13.Create maps (Google maps), markers US by state - Lynell"
   ]
  },
  {
   "cell_type": "markdown",
   "metadata": {},
   "source": [
    "14.Top 10 most hit countries- gmaps marker - Lynell"
   ]
  },
  {
   "cell_type": "markdown",
   "metadata": {},
   "source": [
    "15. line charts for any variables - Sushama"
   ]
  },
  {
   "cell_type": "code",
   "execution_count": null,
   "metadata": {},
   "outputs": [],
   "source": []
  }
 ],
 "metadata": {
  "kernelspec": {
   "display_name": "Python 3",
   "language": "python",
   "name": "python3"
  },
  "language_info": {
   "codemirror_mode": {
    "name": "ipython",
    "version": 3
   },
   "file_extension": ".py",
   "mimetype": "text/x-python",
   "name": "python",
   "nbconvert_exporter": "python",
   "pygments_lexer": "ipython3",
   "version": "3.8.5"
  }
 },
 "nbformat": 4,
 "nbformat_minor": 4
}
