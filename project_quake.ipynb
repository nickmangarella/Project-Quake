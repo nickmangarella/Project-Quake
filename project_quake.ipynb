{
 "cells": [
  {
   "cell_type": "code",
   "execution_count": 5,
   "metadata": {},
   "outputs": [],
   "source": [
    "# Dependencies and Setup\n",
    "import matplotlib.pyplot as plt\n",
    "import pandas as pd\n",
    "import numpy as np\n",
    "import requests\n",
    "import scipy.stats as st\n",
    "from pprint import pprint\n",
    "import time\n",
    "from scipy.stats import linregress\n",
    "import reverse_geocoder as rg"
   ]
  },
  {
   "cell_type": "code",
   "execution_count": 2,
   "metadata": {},
   "outputs": [],
   "source": [
    "\n",
    "# Set base url parameters\n",
    "base_url = \"https://earthquake.usgs.gov/fdsnws/event/1/query?format=geojson\"\n",
    "magnitude = \"minmagnitude=5\"\n",
    "limit = \"limit=19999\"\n",
    "year=10\n",
    "\n",
    "# set up lists to hold reponse info\n",
    "time_ls = []\n",
    "lat_ls = []\n",
    "lng_ls = []\n",
    "depth_ls = []\n",
    "mag_ls = []\n",
    "mmi_ls = []\n",
    "sig_ls = []\n",
    "felt_ls = []\n",
    "place_ls = []\n",
    "\n",
    "# iterate through years\n",
    "for x in range (0,11):\n",
    "    time = f\"starttime=20{year}-12-01&endtime=20{year}-12-02\"\n",
    "    query_url = (f\"{base_url}&{time}&{magnitude}&{limit}\")\n",
    "    response = requests.get(query_url).json()\n",
    "\n",
    "    # Append data to appropriate list\n",
    "    for i in range (0, len(response[\"features\"])):\n",
    "        mag_ls.append(response[\"features\"][i][\"properties\"][\"mag\"])\n",
    "        place_ls.append(response[\"features\"][i][\"properties\"][\"place\"])\n",
    "        time_ls.append(response[\"features\"][i][\"properties\"][\"time\"])\n",
    "        felt_ls.append(response[\"features\"][i][\"properties\"][\"felt\"])\n",
    "        mmi_ls.append(response[\"features\"][i][\"properties\"][\"mmi\"])\n",
    "        sig_ls.append(response[\"features\"][i][\"properties\"][\"sig\"])\n",
    "        lat_ls.append(response[\"features\"][i][\"geometry\"][\"coordinates\"][1])\n",
    "        lng_ls.append(response[\"features\"][i][\"geometry\"][\"coordinates\"][0])\n",
    "        depth_ls.append(response[\"features\"][i][\"geometry\"][\"coordinates\"][2])\n",
    "    # counter for next year\n",
    "    year=year+1\n",
    "    "
   ]
  },
  {
   "cell_type": "code",
   "execution_count": 6,
   "metadata": {},
   "outputs": [
    {
     "output_type": "stream",
     "name": "stdout",
     "text": [
      "Loading formatted geocoded file...\n"
     ]
    }
   ],
   "source": [
    "# create dictionary\n",
    "data = {\n",
    "    \"Time\": time_ls,\n",
    "    \"Lat\": lat_ls,\n",
    "    \"Lng\": lng_ls,\n",
    "    \"Depth\": depth_ls,\n",
    "    \"Mag\": mag_ls,\n",
    "    \"MMI\": mmi_ls,\n",
    "    \"Sig\": sig_ls,\n",
    "    \"Felt\": felt_ls,\n",
    "    \"Place\": place_ls\n",
    "}\n",
    "# create dataframe\n",
    "data_df = pd.DataFrame(data)\n",
    "\n",
    "#convert timestamp to dates\n",
    "data_df[\"Time\"] = pd.to_datetime(data_df[\"Time\"], unit=\"ms\")\n",
    "data_df[\"Month\"] = pd.DatetimeIndex(data_df[\"Time\"]).month\n",
    "data_df[\"Day\"] = pd.DatetimeIndex(data_df[\"Time\"]).day\n",
    "data_df[\"Year\"] = pd.DatetimeIndex(data_df[\"Time\"]).year\n",
    "\n",
    "#add country\n",
    "data_df[\"Country\"] = \"\"\n",
    "\n",
    "for index, row in data_df.iterrows():\n",
    "    # get lat, lng from df\n",
    "    lat = row[\"Lat\"]\n",
    "    lng = row[\"Lng\"]\n",
    "    coordinates = (lat,lng)\n",
    "    result = rg.search(coordinates)\n",
    "    data_df.loc[index,\"Country\"] = result[0][\"cc\"]"
   ]
  },
  {
   "cell_type": "code",
   "execution_count": 7,
   "metadata": {},
   "outputs": [
    {
     "output_type": "execute_result",
     "data": {
      "text/plain": [
       "      Lat      Lng  Depth  Mag    MMI  Sig  Felt                        Place  \\\n",
       "0 -15.888 -178.956   15.2  6.1    NaN  572   NaN                  Fiji region   \n",
       "1   2.689   99.041  160.1  5.6  3.663  482   NaN  northern Sumatra, Indonesia   \n",
       "2 -22.717 -174.858   57.4  5.1    NaN  400   NaN                 Tonga region   \n",
       "3  -0.626  121.974   10.0  5.5  5.611  466   4.0          Sulawesi, Indonesia   \n",
       "4  32.175  -40.295   10.0  5.4    NaN  449   NaN  northern Mid-Atlantic Ridge   \n",
       "\n",
       "  Country                    Time  Month  Day  Year  \n",
       "0      WF 2010-12-01 16:01:27.440     12    1  2010  \n",
       "1      ID 2010-12-01 00:50:21.730     12    1  2010  \n",
       "2      TO 2010-12-01 00:09:45.330     12    1  2010  \n",
       "3      ID 2011-12-01 22:53:36.500     12    1  2011  \n",
       "4      PT 2011-12-01 21:35:09.740     12    1  2011  "
      ],
      "text/html": "<div>\n<style scoped>\n    .dataframe tbody tr th:only-of-type {\n        vertical-align: middle;\n    }\n\n    .dataframe tbody tr th {\n        vertical-align: top;\n    }\n\n    .dataframe thead th {\n        text-align: right;\n    }\n</style>\n<table border=\"1\" class=\"dataframe\">\n  <thead>\n    <tr style=\"text-align: right;\">\n      <th></th>\n      <th>Lat</th>\n      <th>Lng</th>\n      <th>Depth</th>\n      <th>Mag</th>\n      <th>MMI</th>\n      <th>Sig</th>\n      <th>Felt</th>\n      <th>Place</th>\n      <th>Country</th>\n      <th>Time</th>\n      <th>Month</th>\n      <th>Day</th>\n      <th>Year</th>\n    </tr>\n  </thead>\n  <tbody>\n    <tr>\n      <th>0</th>\n      <td>-15.888</td>\n      <td>-178.956</td>\n      <td>15.2</td>\n      <td>6.1</td>\n      <td>NaN</td>\n      <td>572</td>\n      <td>NaN</td>\n      <td>Fiji region</td>\n      <td>WF</td>\n      <td>2010-12-01 16:01:27.440</td>\n      <td>12</td>\n      <td>1</td>\n      <td>2010</td>\n    </tr>\n    <tr>\n      <th>1</th>\n      <td>2.689</td>\n      <td>99.041</td>\n      <td>160.1</td>\n      <td>5.6</td>\n      <td>3.663</td>\n      <td>482</td>\n      <td>NaN</td>\n      <td>northern Sumatra, Indonesia</td>\n      <td>ID</td>\n      <td>2010-12-01 00:50:21.730</td>\n      <td>12</td>\n      <td>1</td>\n      <td>2010</td>\n    </tr>\n    <tr>\n      <th>2</th>\n      <td>-22.717</td>\n      <td>-174.858</td>\n      <td>57.4</td>\n      <td>5.1</td>\n      <td>NaN</td>\n      <td>400</td>\n      <td>NaN</td>\n      <td>Tonga region</td>\n      <td>TO</td>\n      <td>2010-12-01 00:09:45.330</td>\n      <td>12</td>\n      <td>1</td>\n      <td>2010</td>\n    </tr>\n    <tr>\n      <th>3</th>\n      <td>-0.626</td>\n      <td>121.974</td>\n      <td>10.0</td>\n      <td>5.5</td>\n      <td>5.611</td>\n      <td>466</td>\n      <td>4.0</td>\n      <td>Sulawesi, Indonesia</td>\n      <td>ID</td>\n      <td>2011-12-01 22:53:36.500</td>\n      <td>12</td>\n      <td>1</td>\n      <td>2011</td>\n    </tr>\n    <tr>\n      <th>4</th>\n      <td>32.175</td>\n      <td>-40.295</td>\n      <td>10.0</td>\n      <td>5.4</td>\n      <td>NaN</td>\n      <td>449</td>\n      <td>NaN</td>\n      <td>northern Mid-Atlantic Ridge</td>\n      <td>PT</td>\n      <td>2011-12-01 21:35:09.740</td>\n      <td>12</td>\n      <td>1</td>\n      <td>2011</td>\n    </tr>\n  </tbody>\n</table>\n</div>"
     },
     "metadata": {},
     "execution_count": 7
    }
   ],
   "source": [
    "# Print dataframe\n",
    "\n",
    "data_df= data_df[[\"Lat\",\"Lng\",\"Depth\",\"Mag\",\"MMI\",\"Sig\",\"Felt\",\"Place\",\"Country\",\"Time\",\"Month\",\"Day\",\"Year\"]]\n",
    "\n",
    "data_df.head()"
   ]
  },
  {
   "cell_type": "code",
   "execution_count": 8,
   "metadata": {},
   "outputs": [],
   "source": [
    "data_df.to_csv(\"earthquake_data_2010-20.csv\", index= False)"
   ]
  },
  {
   "cell_type": "code",
   "execution_count": null,
   "metadata": {},
   "outputs": [],
   "source": []
  }
 ],
 "metadata": {
  "kernelspec": {
   "display_name": "Python [conda env:.conda-PythonData]*",
   "language": "python",
   "name": "myenv"
  },
  "language_info": {
   "codemirror_mode": {
    "name": "ipython",
    "version": 3
   },
   "file_extension": ".py",
   "mimetype": "text/x-python",
   "name": "python",
   "nbconvert_exporter": "python",
   "pygments_lexer": "ipython3",
   "version": "3.8.5-final"
  }
 },
 "nbformat": 4,
 "nbformat_minor": 4
}