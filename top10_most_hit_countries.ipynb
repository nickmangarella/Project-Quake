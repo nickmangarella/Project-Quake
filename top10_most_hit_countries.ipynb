{
 "cells": [
  {
   "cell_type": "markdown",
   "metadata": {},
   "source": [
    "## Top 10 most hit countries\n",
    "\n",
    "I categorized the whole dataset based on intensity <br>\n",
    "<img src=\"images/intensity.png\">\n",
    "\n",
    "my scale bin: <br>\n",
    "Mag 5 to 5.99: Moderate <br>\n",
    "Mag 6 to 6.99: Strong <br>\n",
    "Mag 7 to 7.99: Very Strong <br>\n",
    "Mag 8 to 8.99: Severe <br>\n",
    "Mag 9 to 9.99: Violent <br>\n",
    "Mag 10 and above: Extreme <br>\n",
    "\n",
    "Here is the readout:\n",
    "<img src=\"images/count_by_scales.png\">\n",
    "\n",
    "As Mag 8 and above is quite rare (only 34 times), I subset 7 and above to determine the top 10 most hit countries. US is in the top 10, ranked No. 8, with 26 times of earthquakes above mag 7!! The csv file is available in \"output_data2/earthquake_mag_above_7.csv\", someone may subset the US earthquakes and do a gmap!\n",
    "<img src=\"images/top10.png\">\n"
   ]
  },
  {
   "cell_type": "code",
   "execution_count": null,
   "metadata": {},
   "outputs": [],
   "source": []
  }
 ],
 "metadata": {
  "kernelspec": {
   "display_name": "Python 3",
   "language": "python",
   "name": "python3"
  },
  "language_info": {
   "codemirror_mode": {
    "name": "ipython",
    "version": 3
   },
   "file_extension": ".py",
   "mimetype": "text/x-python",
   "name": "python",
   "nbconvert_exporter": "python",
   "pygments_lexer": "ipython3",
   "version": "3.8.5"
  }
 },
 "nbformat": 4,
 "nbformat_minor": 4
}
