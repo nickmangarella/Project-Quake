{
 "cells": [
  {
   "cell_type": "code",
   "execution_count": 1,
   "metadata": {},
   "outputs": [],
   "source": [
    "# Dependencies and Setup\n",
    "import matplotlib.pyplot as plt\n",
    "import pandas as pd\n",
    "import numpy as np\n",
    "import requests\n",
    "import scipy.stats as st\n",
    "from pprint import pprint\n",
    "import time\n",
    "from scipy.stats import linregress\n",
    "import reverse_geocoder as rg\n",
    "import glob"
   ]
  },
  {
   "cell_type": "code",
   "execution_count": 2,
   "metadata": {},
   "outputs": [
    {
     "output_type": "execute_result",
     "data": {
      "text/plain": [
       "              Lat         Lng   Depth   Mag  MMI  Sig  Felt  \\\n",
       "0       33.561833 -116.767833  17.360  1.50  NaN   35   NaN   \n",
       "1       38.816000 -122.795167   3.031  0.47  NaN    3   NaN   \n",
       "2       38.630333 -122.333333  10.834  1.05  NaN   17   NaN   \n",
       "3       19.395500 -155.279167   1.789  1.91  NaN   56   NaN   \n",
       "4       19.392500 -155.276333   1.939  1.97  NaN   60   NaN   \n",
       "...           ...         ...     ...   ...  ...  ...   ...   \n",
       "819954  59.806400 -136.757300   7.000  1.20  NaN   22   NaN   \n",
       "819955  38.834333 -122.811833   2.020  0.28  NaN    1   NaN   \n",
       "819956  32.348600  141.697900   9.280  5.20  NaN  416   NaN   \n",
       "819957  38.835499 -122.805664   1.480  0.74  NaN    8   NaN   \n",
       "819958  52.045000 -176.058333   8.560  0.14  NaN    0   NaN   \n",
       "\n",
       "                                              Place                     Time  \\\n",
       "0                                 9km W of Anza, CA  1980-12-30 23:53:42.320   \n",
       "1                               Northern California  1980-12-30 23:01:00.460   \n",
       "2                               Northern California  1980-12-30 22:44:10.360   \n",
       "3                             Hawaii region, Hawaii  1980-12-30 22:42:16.360   \n",
       "4                             Hawaii region, Hawaii  1980-12-30 22:21:55.890   \n",
       "...                                             ...                      ...   \n",
       "819954            48 km NW of Mosquito Lake, Alaska  2020-11-07 21:34:30.025   \n",
       "819955                            8km W of Cobb, CA  2020-11-07 21:33:20.760   \n",
       "819956                    Izu Islands, Japan region  2020-11-07 21:30:44.700   \n",
       "819957                          7km WNW of Cobb, CA  2020-11-07 21:26:52.230   \n",
       "819958  Andreanof Islands, Aleutian Islands, Alaska  2020-11-07 21:24:05.170   \n",
       "\n",
       "        Month  Day  Year  \n",
       "0          12   30  1980  \n",
       "1          12   30  1980  \n",
       "2          12   30  1980  \n",
       "3          12   30  1980  \n",
       "4          12   30  1980  \n",
       "...       ...  ...   ...  \n",
       "819954     11    7  2020  \n",
       "819955     11    7  2020  \n",
       "819956     11    7  2020  \n",
       "819957     11    7  2020  \n",
       "819958     11    7  2020  \n",
       "\n",
       "[819959 rows x 12 columns]"
      ],
      "text/html": "<div>\n<style scoped>\n    .dataframe tbody tr th:only-of-type {\n        vertical-align: middle;\n    }\n\n    .dataframe tbody tr th {\n        vertical-align: top;\n    }\n\n    .dataframe thead th {\n        text-align: right;\n    }\n</style>\n<table border=\"1\" class=\"dataframe\">\n  <thead>\n    <tr style=\"text-align: right;\">\n      <th></th>\n      <th>Lat</th>\n      <th>Lng</th>\n      <th>Depth</th>\n      <th>Mag</th>\n      <th>MMI</th>\n      <th>Sig</th>\n      <th>Felt</th>\n      <th>Place</th>\n      <th>Time</th>\n      <th>Month</th>\n      <th>Day</th>\n      <th>Year</th>\n    </tr>\n  </thead>\n  <tbody>\n    <tr>\n      <th>0</th>\n      <td>33.561833</td>\n      <td>-116.767833</td>\n      <td>17.360</td>\n      <td>1.50</td>\n      <td>NaN</td>\n      <td>35</td>\n      <td>NaN</td>\n      <td>9km W of Anza, CA</td>\n      <td>1980-12-30 23:53:42.320</td>\n      <td>12</td>\n      <td>30</td>\n      <td>1980</td>\n    </tr>\n    <tr>\n      <th>1</th>\n      <td>38.816000</td>\n      <td>-122.795167</td>\n      <td>3.031</td>\n      <td>0.47</td>\n      <td>NaN</td>\n      <td>3</td>\n      <td>NaN</td>\n      <td>Northern California</td>\n      <td>1980-12-30 23:01:00.460</td>\n      <td>12</td>\n      <td>30</td>\n      <td>1980</td>\n    </tr>\n    <tr>\n      <th>2</th>\n      <td>38.630333</td>\n      <td>-122.333333</td>\n      <td>10.834</td>\n      <td>1.05</td>\n      <td>NaN</td>\n      <td>17</td>\n      <td>NaN</td>\n      <td>Northern California</td>\n      <td>1980-12-30 22:44:10.360</td>\n      <td>12</td>\n      <td>30</td>\n      <td>1980</td>\n    </tr>\n    <tr>\n      <th>3</th>\n      <td>19.395500</td>\n      <td>-155.279167</td>\n      <td>1.789</td>\n      <td>1.91</td>\n      <td>NaN</td>\n      <td>56</td>\n      <td>NaN</td>\n      <td>Hawaii region, Hawaii</td>\n      <td>1980-12-30 22:42:16.360</td>\n      <td>12</td>\n      <td>30</td>\n      <td>1980</td>\n    </tr>\n    <tr>\n      <th>4</th>\n      <td>19.392500</td>\n      <td>-155.276333</td>\n      <td>1.939</td>\n      <td>1.97</td>\n      <td>NaN</td>\n      <td>60</td>\n      <td>NaN</td>\n      <td>Hawaii region, Hawaii</td>\n      <td>1980-12-30 22:21:55.890</td>\n      <td>12</td>\n      <td>30</td>\n      <td>1980</td>\n    </tr>\n    <tr>\n      <th>...</th>\n      <td>...</td>\n      <td>...</td>\n      <td>...</td>\n      <td>...</td>\n      <td>...</td>\n      <td>...</td>\n      <td>...</td>\n      <td>...</td>\n      <td>...</td>\n      <td>...</td>\n      <td>...</td>\n      <td>...</td>\n    </tr>\n    <tr>\n      <th>819954</th>\n      <td>59.806400</td>\n      <td>-136.757300</td>\n      <td>7.000</td>\n      <td>1.20</td>\n      <td>NaN</td>\n      <td>22</td>\n      <td>NaN</td>\n      <td>48 km NW of Mosquito Lake, Alaska</td>\n      <td>2020-11-07 21:34:30.025</td>\n      <td>11</td>\n      <td>7</td>\n      <td>2020</td>\n    </tr>\n    <tr>\n      <th>819955</th>\n      <td>38.834333</td>\n      <td>-122.811833</td>\n      <td>2.020</td>\n      <td>0.28</td>\n      <td>NaN</td>\n      <td>1</td>\n      <td>NaN</td>\n      <td>8km W of Cobb, CA</td>\n      <td>2020-11-07 21:33:20.760</td>\n      <td>11</td>\n      <td>7</td>\n      <td>2020</td>\n    </tr>\n    <tr>\n      <th>819956</th>\n      <td>32.348600</td>\n      <td>141.697900</td>\n      <td>9.280</td>\n      <td>5.20</td>\n      <td>NaN</td>\n      <td>416</td>\n      <td>NaN</td>\n      <td>Izu Islands, Japan region</td>\n      <td>2020-11-07 21:30:44.700</td>\n      <td>11</td>\n      <td>7</td>\n      <td>2020</td>\n    </tr>\n    <tr>\n      <th>819957</th>\n      <td>38.835499</td>\n      <td>-122.805664</td>\n      <td>1.480</td>\n      <td>0.74</td>\n      <td>NaN</td>\n      <td>8</td>\n      <td>NaN</td>\n      <td>7km WNW of Cobb, CA</td>\n      <td>2020-11-07 21:26:52.230</td>\n      <td>11</td>\n      <td>7</td>\n      <td>2020</td>\n    </tr>\n    <tr>\n      <th>819958</th>\n      <td>52.045000</td>\n      <td>-176.058333</td>\n      <td>8.560</td>\n      <td>0.14</td>\n      <td>NaN</td>\n      <td>0</td>\n      <td>NaN</td>\n      <td>Andreanof Islands, Aleutian Islands, Alaska</td>\n      <td>2020-11-07 21:24:05.170</td>\n      <td>11</td>\n      <td>7</td>\n      <td>2020</td>\n    </tr>\n  </tbody>\n</table>\n<p>819959 rows × 12 columns</p>\n</div>"
     },
     "metadata": {},
     "execution_count": 2
    }
   ],
   "source": [
    "path = r\"output_data_full\"\n",
    "all_files = glob.glob(path + \"/*_full.csv\")\n",
    "\n",
    "stats = []\n",
    "\n",
    "for filename in all_files:\n",
    "    weather_df = pd.read_csv(filename, index_col=None, header=0)\n",
    "    stats.append(weather_df)\n",
    "    \n",
    "weather_full_data = pd.concat(stats, axis=0, ignore_index=True)\n",
    "weather_full_data\n"
   ]
  },
  {
   "cell_type": "code",
   "execution_count": 3,
   "metadata": {},
   "outputs": [
    {
     "output_type": "execute_result",
     "data": {
      "text/plain": [
       "Lat      819959\n",
       "Lng      819959\n",
       "Depth    819959\n",
       "Mag      777833\n",
       "MMI        4322\n",
       "Sig      819959\n",
       "Felt      14229\n",
       "Place    819956\n",
       "Time     819959\n",
       "Month    819959\n",
       "Day      819959\n",
       "Year     819959\n",
       "dtype: int64"
      ]
     },
     "metadata": {},
     "execution_count": 3
    }
   ],
   "source": [
    "weather_full_data.count()"
   ]
  },
  {
   "cell_type": "code",
   "execution_count": null,
   "metadata": {},
   "outputs": [],
   "source": []
  }
 ],
 "metadata": {
  "kernelspec": {
   "display_name": "Python [conda env:.conda-PythonData]*",
   "language": "python",
   "name": "myenv"
  },
  "language_info": {
   "codemirror_mode": {
    "name": "ipython",
    "version": 3
   },
   "file_extension": ".py",
   "mimetype": "text/x-python",
   "name": "python",
   "nbconvert_exporter": "python",
   "pygments_lexer": "ipython3",
   "version": "3.8.5-final"
  }
 },
 "nbformat": 4,
 "nbformat_minor": 4
}