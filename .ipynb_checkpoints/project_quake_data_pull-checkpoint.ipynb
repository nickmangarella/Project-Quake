{
 "cells": [
  {
   "cell_type": "code",
   "execution_count": null,
   "metadata": {},
   "outputs": [],
   "source": [
    "# Dependencies and Setup\n",
    "import matplotlib.pyplot as plt\n",
    "import pandas as pd\n",
    "import numpy as np\n",
    "import requests\n",
    "import scipy.stats as st\n",
    "from pprint import pprint\n",
    "import time\n",
    "from scipy.stats import linregress\n",
    "import reverse_geocoder as rg"
   ]
  },
  {
   "cell_type": "code",
   "execution_count": null,
   "metadata": {},
   "outputs": [],
   "source": [
    "\n",
    "# Set base url parameters\n",
    "base_url = \"https://earthquake.usgs.gov/fdsnws/event/1/query?format=geojson\"\n",
    "magnitude = \"minmagnitude=5\"\n",
    "limit = \"limit=19999\"\n",
    "year=10\n",
    "\n",
    "# set up lists to hold reponse info\n",
    "time_ls = []\n",
    "lat_ls = []\n",
    "lng_ls = []\n",
    "depth_ls = []\n",
    "mag_ls = []\n",
    "mmi_ls = []\n",
    "sig_ls = []\n",
    "felt_ls = []\n",
    "place_ls = []\n",
    "\n",
    "# iterate through years\n",
    "for x in range (0,11):\n",
    "    time = f\"starttime=20{year}-01-01&endtime=20{year}-12-31\"\n",
    "    query_url = (f\"{base_url}&{time}&{magnitude}&{limit}\")\n",
    "    response = requests.get(query_url).json()\n",
    "\n",
    "    # Append data to appropriate list\n",
    "    for i in range (0, len(response[\"features\"])):\n",
    "        mag_ls.append(response[\"features\"][i][\"properties\"][\"mag\"])\n",
    "        place_ls.append(response[\"features\"][i][\"properties\"][\"place\"])\n",
    "        time_ls.append(response[\"features\"][i][\"properties\"][\"time\"])\n",
    "        felt_ls.append(response[\"features\"][i][\"properties\"][\"felt\"])\n",
    "        mmi_ls.append(response[\"features\"][i][\"properties\"][\"mmi\"])\n",
    "        sig_ls.append(response[\"features\"][i][\"properties\"][\"sig\"])\n",
    "        lat_ls.append(response[\"features\"][i][\"geometry\"][\"coordinates\"][1])\n",
    "        lng_ls.append(response[\"features\"][i][\"geometry\"][\"coordinates\"][0])\n",
    "        depth_ls.append(response[\"features\"][i][\"geometry\"][\"coordinates\"][2])\n",
    "    # counter for next year\n",
    "    \n",
    "    year=year+1\n",
    "    "
   ]
  },
  {
   "cell_type": "code",
   "execution_count": null,
   "metadata": {},
   "outputs": [],
   "source": [
    "# create dictionary\n",
    "data = {\n",
    "    \"Time\": time_ls,\n",
    "    \"Lat\": lat_ls,\n",
    "    \"Lng\": lng_ls,\n",
    "    \"Depth\": depth_ls,\n",
    "    \"Mag\": mag_ls,\n",
    "    \"MMI\": mmi_ls,\n",
    "    \"Sig\": sig_ls,\n",
    "    \"Felt\": felt_ls,\n",
    "    \"Place\": place_ls\n",
    "}\n",
    "# create dataframe\n",
    "data_df = pd.DataFrame(data)\n",
    "\n",
    "#convert timestamp to dates\n",
    "data_df[\"Time\"] = pd.to_datetime(data_df[\"Time\"], unit=\"ms\")\n",
    "data_df[\"Month\"] = pd.DatetimeIndex(data_df[\"Time\"]).month\n",
    "data_df[\"Day\"] = pd.DatetimeIndex(data_df[\"Time\"]).day\n",
    "data_df[\"Year\"] = pd.DatetimeIndex(data_df[\"Time\"]).year\n",
    "\n",
    "# #add country\n",
    "# data_df[\"Country\"] = \"\"\n",
    "\n",
    "# for index, row in data_df.iterrows():\n",
    "#     # get lat, lng from df\n",
    "#     lat = row[\"Lat\"]\n",
    "#     lng = row[\"Lng\"]\n",
    "#     coordinates = (lat,lng)\n",
    "#     result = rg.search(coordinates)\n",
    "#     data_df.loc[index,\"Country\"] = result[0][\"cc\"]"
   ]
  },
  {
   "cell_type": "code",
   "execution_count": null,
   "metadata": {},
   "outputs": [],
   "source": [
    "# Print dataframe\n",
    "\n",
    "data_df= data_df[[\"Lat\",\"Lng\",\"Depth\",\"Mag\",\"MMI\",\"Sig\",\"Felt\",\"Place\",\"Time\",\"Month\",\"Day\",\"Year\"]]\n",
    "\n",
    "data_df.head()"
   ]
  },
  {
   "cell_type": "code",
   "execution_count": null,
   "metadata": {},
   "outputs": [],
   "source": [
    "# data_df.to_csv(\"output_data/earthquake_data_2010-20.csv\", index= False)"
   ]
  },
  {
   "cell_type": "code",
   "execution_count": null,
   "metadata": {},
   "outputs": [],
   "source": []
  }
 ],
 "metadata": {
  "kernelspec": {
   "display_name": "Python [conda env:.conda-PythonData]*",
   "language": "python",
   "name": "myenv"
  },
  "language_info": {
   "codemirror_mode": {
    "name": "ipython",
    "version": 3
   },
   "file_extension": ".py",
   "mimetype": "text/x-python",
   "name": "python",
   "nbconvert_exporter": "python",
   "pygments_lexer": "ipython3",
   "version": "3.8.3"
  }
 },
 "nbformat": 4,
 "nbformat_minor": 4
}
