{
 "cells": [
  {
   "cell_type": "code",
   "execution_count": 1,
   "metadata": {},
   "outputs": [],
   "source": [
    "# Dependencies and Setup\n",
    "import matplotlib.pyplot as plt\n",
    "import pandas as pd\n",
    "import numpy as np\n",
    "import requests\n",
    "import scipy.stats as st\n",
    "from pprint import pprint\n",
    "import time\n",
    "from scipy.stats import linregress\n",
    "import reverse_geocoder as rg"
   ]
  },
  {
   "cell_type": "code",
   "execution_count": 3,
   "metadata": {},
   "outputs": [
    {
     "data": {
      "text/html": [
       "<div>\n",
       "<style scoped>\n",
       "    .dataframe tbody tr th:only-of-type {\n",
       "        vertical-align: middle;\n",
       "    }\n",
       "\n",
       "    .dataframe tbody tr th {\n",
       "        vertical-align: top;\n",
       "    }\n",
       "\n",
       "    .dataframe thead th {\n",
       "        text-align: right;\n",
       "    }\n",
       "</style>\n",
       "<table border=\"1\" class=\"dataframe\">\n",
       "  <thead>\n",
       "    <tr style=\"text-align: right;\">\n",
       "      <th></th>\n",
       "      <th>Lat</th>\n",
       "      <th>Lng</th>\n",
       "      <th>Depth</th>\n",
       "      <th>Mag</th>\n",
       "      <th>MMI</th>\n",
       "      <th>Sig</th>\n",
       "      <th>Felt</th>\n",
       "      <th>Place</th>\n",
       "      <th>Time</th>\n",
       "      <th>Month</th>\n",
       "      <th>Day</th>\n",
       "      <th>Year</th>\n",
       "    </tr>\n",
       "  </thead>\n",
       "  <tbody>\n",
       "    <tr>\n",
       "      <th>0</th>\n",
       "      <td>-31.8300</td>\n",
       "      <td>-178.1350</td>\n",
       "      <td>35.0</td>\n",
       "      <td>5.0</td>\n",
       "      <td>NaN</td>\n",
       "      <td>385</td>\n",
       "      <td>NaN</td>\n",
       "      <td>Kermadec Islands region</td>\n",
       "      <td>2010-12-30 23:47:03.930</td>\n",
       "      <td>12</td>\n",
       "      <td>30</td>\n",
       "      <td>2010</td>\n",
       "    </tr>\n",
       "    <tr>\n",
       "      <th>1</th>\n",
       "      <td>-19.9840</td>\n",
       "      <td>168.3530</td>\n",
       "      <td>20.2</td>\n",
       "      <td>5.0</td>\n",
       "      <td>NaN</td>\n",
       "      <td>385</td>\n",
       "      <td>NaN</td>\n",
       "      <td>Vanuatu</td>\n",
       "      <td>2010-12-30 21:22:30.350</td>\n",
       "      <td>12</td>\n",
       "      <td>30</td>\n",
       "      <td>2010</td>\n",
       "    </tr>\n",
       "    <tr>\n",
       "      <th>2</th>\n",
       "      <td>50.3800</td>\n",
       "      <td>153.9640</td>\n",
       "      <td>190.1</td>\n",
       "      <td>5.0</td>\n",
       "      <td>NaN</td>\n",
       "      <td>385</td>\n",
       "      <td>NaN</td>\n",
       "      <td>Kuril Islands</td>\n",
       "      <td>2010-12-30 19:56:36.380</td>\n",
       "      <td>12</td>\n",
       "      <td>30</td>\n",
       "      <td>2010</td>\n",
       "    </tr>\n",
       "    <tr>\n",
       "      <th>3</th>\n",
       "      <td>56.7391</td>\n",
       "      <td>-156.1674</td>\n",
       "      <td>58.1</td>\n",
       "      <td>5.0</td>\n",
       "      <td>NaN</td>\n",
       "      <td>385</td>\n",
       "      <td>NaN</td>\n",
       "      <td>Alaska Peninsula</td>\n",
       "      <td>2010-12-30 19:21:26.463</td>\n",
       "      <td>12</td>\n",
       "      <td>30</td>\n",
       "      <td>2010</td>\n",
       "    </tr>\n",
       "    <tr>\n",
       "      <th>4</th>\n",
       "      <td>9.9890</td>\n",
       "      <td>126.2490</td>\n",
       "      <td>58.5</td>\n",
       "      <td>5.0</td>\n",
       "      <td>NaN</td>\n",
       "      <td>385</td>\n",
       "      <td>NaN</td>\n",
       "      <td>Mindanao, Philippines</td>\n",
       "      <td>2010-12-30 16:56:14.930</td>\n",
       "      <td>12</td>\n",
       "      <td>30</td>\n",
       "      <td>2010</td>\n",
       "    </tr>\n",
       "  </tbody>\n",
       "</table>\n",
       "</div>"
      ],
      "text/plain": [
       "       Lat       Lng  Depth  Mag  MMI  Sig  Felt                    Place  \\\n",
       "0 -31.8300 -178.1350   35.0  5.0  NaN  385   NaN  Kermadec Islands region   \n",
       "1 -19.9840  168.3530   20.2  5.0  NaN  385   NaN                  Vanuatu   \n",
       "2  50.3800  153.9640  190.1  5.0  NaN  385   NaN            Kuril Islands   \n",
       "3  56.7391 -156.1674   58.1  5.0  NaN  385   NaN         Alaska Peninsula   \n",
       "4   9.9890  126.2490   58.5  5.0  NaN  385   NaN    Mindanao, Philippines   \n",
       "\n",
       "                      Time  Month  Day  Year  \n",
       "0  2010-12-30 23:47:03.930     12   30  2010  \n",
       "1  2010-12-30 21:22:30.350     12   30  2010  \n",
       "2  2010-12-30 19:56:36.380     12   30  2010  \n",
       "3  2010-12-30 19:21:26.463     12   30  2010  \n",
       "4  2010-12-30 16:56:14.930     12   30  2010  "
      ]
     },
     "execution_count": 3,
     "metadata": {},
     "output_type": "execute_result"
    }
   ],
   "source": [
    "# Load data from CSVs to create dataframe\n",
    "quakedata_201020_df = pd.read_csv(\"output_data/earthquake_data_2010-20.csv\")\n",
    "quakedata_201020_df.head()"
   ]
  },
  {
   "cell_type": "code",
   "execution_count": 5,
   "metadata": {},
   "outputs": [
    {
     "data": {
      "text/plain": [
       "Lat      19703\n",
       "Lng      19703\n",
       "Depth    19703\n",
       "Mag      19703\n",
       "MMI       5367\n",
       "Sig      19703\n",
       "Felt      7128\n",
       "Place    19703\n",
       "Time     19703\n",
       "Month    19703\n",
       "Day      19703\n",
       "Year     19703\n",
       "dtype: int64"
      ]
     },
     "execution_count": 5,
     "metadata": {},
     "output_type": "execute_result"
    }
   ],
   "source": [
    "#  count\n",
    "quakedata_201020_df.count()\n"
   ]
  },
  {
   "cell_type": "code",
   "execution_count": 6,
   "metadata": {},
   "outputs": [
    {
     "data": {
      "text/plain": [
       "Lat      3064\n",
       "Lng      3064\n",
       "Depth    3064\n",
       "Mag      3064\n",
       "MMI      3064\n",
       "Sig      3064\n",
       "Felt     3064\n",
       "Place    3064\n",
       "Time     3064\n",
       "Month    3064\n",
       "Day      3064\n",
       "Year     3064\n",
       "dtype: int64"
      ]
     },
     "execution_count": 6,
     "metadata": {},
     "output_type": "execute_result"
    }
   ],
   "source": [
    "# drop NAs\n",
    "quakedata_201020_df.dropna(inplace = True) \n",
    "\n",
    "#  count\n",
    "quakedata_201020_df.count()"
   ]
  },
  {
   "cell_type": "code",
   "execution_count": null,
   "metadata": {},
   "outputs": [],
   "source": []
  }
 ],
 "metadata": {
  "kernelspec": {
   "display_name": "Python [conda env:.conda-PythonData]*",
   "language": "python",
   "name": "myenv"
  },
  "language_info": {
   "codemirror_mode": {
    "name": "ipython",
    "version": 3
   },
   "file_extension": ".py",
   "mimetype": "text/x-python",
   "name": "python",
   "nbconvert_exporter": "python",
   "pygments_lexer": "ipython3",
   "version": "3.8.3"
  }
 },
 "nbformat": 4,
 "nbformat_minor": 4
}
