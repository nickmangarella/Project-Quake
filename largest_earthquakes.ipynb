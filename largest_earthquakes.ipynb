{
 "cells": [
  {
   "cell_type": "code",
   "execution_count": 1,
   "metadata": {},
   "outputs": [],
   "source": [
    "# Dependencies and Setup\n",
    "import matplotlib.pyplot as plt\n",
    "import pandas as pd\n",
    "import numpy as np\n",
    "import gmaps"
   ]
  },
  {
   "cell_type": "code",
   "execution_count": 2,
   "metadata": {},
   "outputs": [
    {
     "data": {
      "text/html": [
       "<div>\n",
       "<style scoped>\n",
       "    .dataframe tbody tr th:only-of-type {\n",
       "        vertical-align: middle;\n",
       "    }\n",
       "\n",
       "    .dataframe tbody tr th {\n",
       "        vertical-align: top;\n",
       "    }\n",
       "\n",
       "    .dataframe thead th {\n",
       "        text-align: right;\n",
       "    }\n",
       "</style>\n",
       "<table border=\"1\" class=\"dataframe\">\n",
       "  <thead>\n",
       "    <tr style=\"text-align: right;\">\n",
       "      <th></th>\n",
       "      <th>Lat</th>\n",
       "      <th>Lng</th>\n",
       "      <th>Depth</th>\n",
       "      <th>Mag</th>\n",
       "      <th>Sig</th>\n",
       "      <th>Place</th>\n",
       "      <th>Time</th>\n",
       "      <th>Month</th>\n",
       "      <th>Day</th>\n",
       "      <th>Year</th>\n",
       "    </tr>\n",
       "  </thead>\n",
       "  <tbody>\n",
       "    <tr>\n",
       "      <th>0</th>\n",
       "      <td>12.353</td>\n",
       "      <td>95.192</td>\n",
       "      <td>20.0</td>\n",
       "      <td>5.1</td>\n",
       "      <td>400</td>\n",
       "      <td>Andaman Islands, India region</td>\n",
       "      <td>1980-01-01 01:24:37.200</td>\n",
       "      <td>1</td>\n",
       "      <td>1</td>\n",
       "      <td>1980</td>\n",
       "    </tr>\n",
       "    <tr>\n",
       "      <th>1</th>\n",
       "      <td>27.261</td>\n",
       "      <td>60.259</td>\n",
       "      <td>33.0</td>\n",
       "      <td>5.3</td>\n",
       "      <td>432</td>\n",
       "      <td>southeastern Iran</td>\n",
       "      <td>1980-01-01 02:45:54.000</td>\n",
       "      <td>1</td>\n",
       "      <td>1</td>\n",
       "      <td>1980</td>\n",
       "    </tr>\n",
       "    <tr>\n",
       "      <th>2</th>\n",
       "      <td>-31.211</td>\n",
       "      <td>58.717</td>\n",
       "      <td>10.0</td>\n",
       "      <td>5.0</td>\n",
       "      <td>385</td>\n",
       "      <td>Southwest Indian Ridge</td>\n",
       "      <td>1980-01-01 16:41:45.700</td>\n",
       "      <td>1</td>\n",
       "      <td>1</td>\n",
       "      <td>1980</td>\n",
       "    </tr>\n",
       "    <tr>\n",
       "      <th>3</th>\n",
       "      <td>38.815</td>\n",
       "      <td>-27.780</td>\n",
       "      <td>10.0</td>\n",
       "      <td>6.7</td>\n",
       "      <td>691</td>\n",
       "      <td>Azores Islands, Portugal</td>\n",
       "      <td>1980-01-01 16:42:40.000</td>\n",
       "      <td>1</td>\n",
       "      <td>1</td>\n",
       "      <td>1980</td>\n",
       "    </tr>\n",
       "    <tr>\n",
       "      <th>4</th>\n",
       "      <td>3.491</td>\n",
       "      <td>126.716</td>\n",
       "      <td>54.0</td>\n",
       "      <td>5.0</td>\n",
       "      <td>385</td>\n",
       "      <td>Kepulauan Talaud, Indonesia</td>\n",
       "      <td>1980-01-01 19:19:05.900</td>\n",
       "      <td>1</td>\n",
       "      <td>1</td>\n",
       "      <td>1980</td>\n",
       "    </tr>\n",
       "  </tbody>\n",
       "</table>\n",
       "</div>"
      ],
      "text/plain": [
       "      Lat      Lng  Depth  Mag  Sig                          Place  \\\n",
       "0  12.353   95.192   20.0  5.1  400  Andaman Islands, India region   \n",
       "1  27.261   60.259   33.0  5.3  432              southeastern Iran   \n",
       "2 -31.211   58.717   10.0  5.0  385         Southwest Indian Ridge   \n",
       "3  38.815  -27.780   10.0  6.7  691       Azores Islands, Portugal   \n",
       "4   3.491  126.716   54.0  5.0  385    Kepulauan Talaud, Indonesia   \n",
       "\n",
       "                      Time  Month  Day  Year  \n",
       "0  1980-01-01 01:24:37.200      1    1  1980  \n",
       "1  1980-01-01 02:45:54.000      1    1  1980  \n",
       "2  1980-01-01 16:41:45.700      1    1  1980  \n",
       "3  1980-01-01 16:42:40.000      1    1  1980  \n",
       "4  1980-01-01 19:19:05.900      1    1  1980  "
      ]
     },
     "execution_count": 2,
     "metadata": {},
     "output_type": "execute_result"
    }
   ],
   "source": [
    "# Load in csv \n",
    "all_earthquakes = pd.read_csv(\"earthquake_data_1980-2020.csv\")\n",
    "\n",
    "# Vizualize\n",
    "all_earthquakes.head()"
   ]
  },
  {
   "cell_type": "code",
   "execution_count": 8,
   "metadata": {},
   "outputs": [],
   "source": [
    "# Sort by magnitude and get the largest 25 earthquakes\n",
    "all_earthquakes = all_earthquakes.sort_values(by='Mag', ascending=False)\n",
    "largest_quakes = all_earthquakes.head(25)\n",
    "\n",
    "# Configure gmaps\n",
    "gmaps.configure(api_key=gkey)\n",
    "\n",
    "# Store latitude and longitude in locations and convert magnitude to float\n",
    "locations = largest_quakes[[\"Lat\", \"Lng\"]]\n",
    "magnitude = largest_quakes[\"Mag\"].astype(float)\n",
    "\n",
    "\n",
    "# Using the template add the earthquake marks to the gmap\n",
    "info_box_template = \"\"\"\n",
    "<dl>\n",
    "<dt>Place</dt><dd>{Place}</dd>\n",
    "<dt>Mag</dt><dd>{Mag}</dd>\n",
    "<dt>Year</dt><dd>{Year}</dd>\n",
    "</dl>\n",
    "\"\"\"\n",
    "# Store the DataFrame Row\n",
    "quake_info = [info_box_template.format(**row) for index, row in largest_quakes.iterrows()]"
   ]
  },
  {
   "cell_type": "code",
   "execution_count": 9,
   "metadata": {},
   "outputs": [
    {
     "data": {
      "application/vnd.jupyter.widget-view+json": {
       "model_id": "f20eb23f8ba8402bab6cb6f6e7d163cf",
       "version_major": 2,
       "version_minor": 0
      },
      "text/plain": [
       "Figure(layout=FigureLayout(height='420px'))"
      ]
     },
     "metadata": {},
     "output_type": "display_data"
    }
   ],
   "source": [
    "# Plot map\n",
    "fig = gmaps.figure()\n",
    "\n",
    "# Create marker layer\n",
    "markers = gmaps.marker_layer(locations, info_box_content=quake_info)\n",
    "\n",
    "# Add the layer to the map\n",
    "fig.add_layer(markers)\n",
    "\n",
    "# Display figure\n",
    "fig"
   ]
  },
  {
   "cell_type": "code",
   "execution_count": 10,
   "metadata": {},
   "outputs": [
    {
     "data": {
      "text/plain": [
       "0    NaN\n",
       "1    NaN\n",
       "2    NaN\n",
       "3    NaN\n",
       "4    NaN\n",
       "Name: Year, dtype: category\n",
       "Categories (4, object): [1980-89 < 1990-99 < 2000-09 < 2010-2020]"
      ]
     },
     "execution_count": 10,
     "metadata": {},
     "output_type": "execute_result"
    }
   ],
   "source": [
    "#pd.to_numeric(all_earthquakes[\"Year\"])\n",
    "\n",
    "bins = [1980, 1990, 2000, 2010, 2020]\n",
    "\n",
    "labels = ['1980-89', '1990-99', '2000-09', '2010-2020']\n",
    "\n",
    "# Slice the data and place it into bins\n",
    "pd.cut(all_earthquakes[\"Year\"], bins, labels=labels).head()"
   ]
  },
  {
   "cell_type": "code",
   "execution_count": null,
   "metadata": {},
   "outputs": [],
   "source": [
    "# Place the data series into a new column inside of the DataFrame\n",
    "all_earthquakes[\"Decade\"] = pd.cut(all_earthquakes[\"Year\"], bins, labels=labels)\n",
    "all_earthquakes.head()"
   ]
  }
 ],
 "metadata": {
  "kernelspec": {
   "display_name": "Python [conda env:.conda-PythonData]*",
   "language": "python",
   "name": "myenv"
  },
  "language_info": {
   "codemirror_mode": {
    "name": "ipython",
    "version": 3
   },
   "file_extension": ".py",
   "mimetype": "text/x-python",
   "name": "python",
   "nbconvert_exporter": "python",
   "pygments_lexer": "ipython3",
   "version": "3.8.3"
  }
 },
 "nbformat": 4,
 "nbformat_minor": 4
}
