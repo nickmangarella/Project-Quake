{
 "cells": [
  {
   "cell_type": "code",
   "execution_count": 1,
   "metadata": {},
   "outputs": [],
   "source": [
    "# Dependencies and Setup\n",
    "import matplotlib.pyplot as plt\n",
    "import pandas as pd\n",
    "import numpy as np\n",
    "import requests\n",
    "import scipy.stats as st\n",
    "from pprint import pprint\n",
    "import time\n",
    "from scipy.stats import linregress\n",
    "import reverse_geocoder as rg"
   ]
  },
  {
   "cell_type": "code",
   "execution_count": 2,
   "metadata": {},
   "outputs": [],
   "source": [
    "\n",
    "# Set base url parameters\n",
    "base_url = \"https://earthquake.usgs.gov/fdsnws/event/1/query?format=geojson\"\n",
    "magnitude = \"minmagnitude=5\"\n",
    "limit = \"limit=19999\"\n",
    "year=10\n",
    "\n",
    "# set up lists to hold reponse info\n",
    "time_ls = []\n",
    "lat_ls = []\n",
    "lng_ls = []\n",
    "depth_ls = []\n",
    "mag_ls = []\n",
    "mmi_ls = []\n",
    "sig_ls = []\n",
    "felt_ls = []\n",
    "place_ls = []\n",
    "\n",
    "# iterate through years\n",
    "for x in range (0,11):\n",
    "    time = f\"starttime=20{year}-01-01&endtime=20{year}-12-31\"\n",
    "    query_url = (f\"{base_url}&{time}&{limit}\")\n",
    "    response = requests.get(query_url).json()\n",
    "\n",
    "    # Append data to appropriate list\n",
    "    for i in range (0, len(response[\"features\"])):\n",
    "        mag_ls.append(response[\"features\"][i][\"properties\"][\"mag\"])\n",
    "        place_ls.append(response[\"features\"][i][\"properties\"][\"place\"])\n",
    "        time_ls.append(response[\"features\"][i][\"properties\"][\"time\"])\n",
    "        felt_ls.append(response[\"features\"][i][\"properties\"][\"felt\"])\n",
    "        mmi_ls.append(response[\"features\"][i][\"properties\"][\"mmi\"])\n",
    "        sig_ls.append(response[\"features\"][i][\"properties\"][\"sig\"])\n",
    "        lat_ls.append(response[\"features\"][i][\"geometry\"][\"coordinates\"][1])\n",
    "        lng_ls.append(response[\"features\"][i][\"geometry\"][\"coordinates\"][0])\n",
    "        depth_ls.append(response[\"features\"][i][\"geometry\"][\"coordinates\"][2])\n",
    "    # counter for next year\n",
    "    \n",
    "    year=year+1\n",
    "    "
   ]
  },
  {
   "cell_type": "code",
   "execution_count": 3,
   "metadata": {},
   "outputs": [],
   "source": [
    "# create dictionary\n",
    "data = {\n",
    "    \"Time\": time_ls,\n",
    "    \"Lat\": lat_ls,\n",
    "    \"Lng\": lng_ls,\n",
    "    \"Depth\": depth_ls,\n",
    "    \"Mag\": mag_ls,\n",
    "    \"MMI\": mmi_ls,\n",
    "    \"Sig\": sig_ls,\n",
    "    \"Felt\": felt_ls,\n",
    "    \"Place\": place_ls\n",
    "}\n",
    "# create dataframe\n",
    "data_df = pd.DataFrame(data)\n",
    "\n",
    "#convert timestamp to dates\n",
    "data_df[\"Time\"] = pd.to_datetime(data_df[\"Time\"], unit=\"ms\")\n",
    "data_df[\"Month\"] = pd.DatetimeIndex(data_df[\"Time\"]).month\n",
    "data_df[\"Day\"] = pd.DatetimeIndex(data_df[\"Time\"]).day\n",
    "data_df[\"Year\"] = pd.DatetimeIndex(data_df[\"Time\"]).year\n",
    "\n",
    "# #add country\n",
    "# data_df[\"Country\"] = \"\"\n",
    "\n",
    "# for index, row in data_df.iterrows():\n",
    "#     # get lat, lng from df\n",
    "#     lat = row[\"Lat\"]\n",
    "#     lng = row[\"Lng\"]\n",
    "#     coordinates = (lat,lng)\n",
    "#     result = rg.search(coordinates)\n",
    "#     data_df.loc[index,\"Country\"] = result[0][\"cc\"]"
   ]
  },
  {
   "cell_type": "code",
   "execution_count": 7,
   "metadata": {},
   "outputs": [
    {
     "output_type": "execute_result",
     "data": {
      "text/plain": [
       "              Lat         Lng   Depth   Mag  MMI  Sig  Felt  \\\n",
       "0       38.819832 -122.822502   0.904  0.56  NaN    5   NaN   \n",
       "1       35.302000  -92.334333   3.500  2.10  NaN   68   NaN   \n",
       "2       35.315667  -92.325167   2.050  2.30  NaN   81   NaN   \n",
       "3       32.998500 -116.350333   9.098  1.37  NaN   29   NaN   \n",
       "4      -31.830000 -178.135000  35.000  5.00  NaN  385   NaN   \n",
       "...           ...         ...     ...   ...  ...  ...   ...   \n",
       "219984  63.200200 -151.317600   2.300  0.90  NaN   12   NaN   \n",
       "219985  51.300900 -176.511300  25.600  2.10  NaN   68   NaN   \n",
       "219986  62.960100 -150.821400  98.100  1.40  NaN   30   NaN   \n",
       "219987  36.527333  -98.990667   7.710  1.14  NaN   20   NaN   \n",
       "219988  -5.803600  146.664500  53.940  4.40  NaN  298   NaN   \n",
       "\n",
       "                                            Place                    Time  \\\n",
       "0                             Northern California 2010-12-30 23:55:30.100   \n",
       "1                 8km NNE of Greenbrier, Arkansas 2010-12-30 23:54:43.770   \n",
       "2                10km NNE of Greenbrier, Arkansas 2010-12-30 23:51:53.500   \n",
       "3                          25km ESE of Julian, CA 2010-12-30 23:49:00.610   \n",
       "4                         Kermadec Islands region 2010-12-30 23:47:03.930   \n",
       "...                                           ...                     ...   \n",
       "219984  43 km SSE of Denali National Park, Alaska 2020-11-06 05:30:20.995   \n",
       "219985                    64 km S of Adak, Alaska 2020-11-06 05:28:13.270   \n",
       "219986             51 km N of Petersville, Alaska 2020-11-06 05:18:27.127   \n",
       "219987              9 km NNE of Quinlan, Oklahoma 2020-11-06 05:15:59.969   \n",
       "219988   103 km ENE of Kainantu, Papua New Guinea 2020-11-06 05:15:39.471   \n",
       "\n",
       "        Month  Day  Year  \n",
       "0          12   30  2010  \n",
       "1          12   30  2010  \n",
       "2          12   30  2010  \n",
       "3          12   30  2010  \n",
       "4          12   30  2010  \n",
       "...       ...  ...   ...  \n",
       "219984     11    6  2020  \n",
       "219985     11    6  2020  \n",
       "219986     11    6  2020  \n",
       "219987     11    6  2020  \n",
       "219988     11    6  2020  \n",
       "\n",
       "[219989 rows x 12 columns]"
      ],
      "text/html": "<div>\n<style scoped>\n    .dataframe tbody tr th:only-of-type {\n        vertical-align: middle;\n    }\n\n    .dataframe tbody tr th {\n        vertical-align: top;\n    }\n\n    .dataframe thead th {\n        text-align: right;\n    }\n</style>\n<table border=\"1\" class=\"dataframe\">\n  <thead>\n    <tr style=\"text-align: right;\">\n      <th></th>\n      <th>Lat</th>\n      <th>Lng</th>\n      <th>Depth</th>\n      <th>Mag</th>\n      <th>MMI</th>\n      <th>Sig</th>\n      <th>Felt</th>\n      <th>Place</th>\n      <th>Time</th>\n      <th>Month</th>\n      <th>Day</th>\n      <th>Year</th>\n    </tr>\n  </thead>\n  <tbody>\n    <tr>\n      <th>0</th>\n      <td>38.819832</td>\n      <td>-122.822502</td>\n      <td>0.904</td>\n      <td>0.56</td>\n      <td>NaN</td>\n      <td>5</td>\n      <td>NaN</td>\n      <td>Northern California</td>\n      <td>2010-12-30 23:55:30.100</td>\n      <td>12</td>\n      <td>30</td>\n      <td>2010</td>\n    </tr>\n    <tr>\n      <th>1</th>\n      <td>35.302000</td>\n      <td>-92.334333</td>\n      <td>3.500</td>\n      <td>2.10</td>\n      <td>NaN</td>\n      <td>68</td>\n      <td>NaN</td>\n      <td>8km NNE of Greenbrier, Arkansas</td>\n      <td>2010-12-30 23:54:43.770</td>\n      <td>12</td>\n      <td>30</td>\n      <td>2010</td>\n    </tr>\n    <tr>\n      <th>2</th>\n      <td>35.315667</td>\n      <td>-92.325167</td>\n      <td>2.050</td>\n      <td>2.30</td>\n      <td>NaN</td>\n      <td>81</td>\n      <td>NaN</td>\n      <td>10km NNE of Greenbrier, Arkansas</td>\n      <td>2010-12-30 23:51:53.500</td>\n      <td>12</td>\n      <td>30</td>\n      <td>2010</td>\n    </tr>\n    <tr>\n      <th>3</th>\n      <td>32.998500</td>\n      <td>-116.350333</td>\n      <td>9.098</td>\n      <td>1.37</td>\n      <td>NaN</td>\n      <td>29</td>\n      <td>NaN</td>\n      <td>25km ESE of Julian, CA</td>\n      <td>2010-12-30 23:49:00.610</td>\n      <td>12</td>\n      <td>30</td>\n      <td>2010</td>\n    </tr>\n    <tr>\n      <th>4</th>\n      <td>-31.830000</td>\n      <td>-178.135000</td>\n      <td>35.000</td>\n      <td>5.00</td>\n      <td>NaN</td>\n      <td>385</td>\n      <td>NaN</td>\n      <td>Kermadec Islands region</td>\n      <td>2010-12-30 23:47:03.930</td>\n      <td>12</td>\n      <td>30</td>\n      <td>2010</td>\n    </tr>\n    <tr>\n      <th>...</th>\n      <td>...</td>\n      <td>...</td>\n      <td>...</td>\n      <td>...</td>\n      <td>...</td>\n      <td>...</td>\n      <td>...</td>\n      <td>...</td>\n      <td>...</td>\n      <td>...</td>\n      <td>...</td>\n      <td>...</td>\n    </tr>\n    <tr>\n      <th>219984</th>\n      <td>63.200200</td>\n      <td>-151.317600</td>\n      <td>2.300</td>\n      <td>0.90</td>\n      <td>NaN</td>\n      <td>12</td>\n      <td>NaN</td>\n      <td>43 km SSE of Denali National Park, Alaska</td>\n      <td>2020-11-06 05:30:20.995</td>\n      <td>11</td>\n      <td>6</td>\n      <td>2020</td>\n    </tr>\n    <tr>\n      <th>219985</th>\n      <td>51.300900</td>\n      <td>-176.511300</td>\n      <td>25.600</td>\n      <td>2.10</td>\n      <td>NaN</td>\n      <td>68</td>\n      <td>NaN</td>\n      <td>64 km S of Adak, Alaska</td>\n      <td>2020-11-06 05:28:13.270</td>\n      <td>11</td>\n      <td>6</td>\n      <td>2020</td>\n    </tr>\n    <tr>\n      <th>219986</th>\n      <td>62.960100</td>\n      <td>-150.821400</td>\n      <td>98.100</td>\n      <td>1.40</td>\n      <td>NaN</td>\n      <td>30</td>\n      <td>NaN</td>\n      <td>51 km N of Petersville, Alaska</td>\n      <td>2020-11-06 05:18:27.127</td>\n      <td>11</td>\n      <td>6</td>\n      <td>2020</td>\n    </tr>\n    <tr>\n      <th>219987</th>\n      <td>36.527333</td>\n      <td>-98.990667</td>\n      <td>7.710</td>\n      <td>1.14</td>\n      <td>NaN</td>\n      <td>20</td>\n      <td>NaN</td>\n      <td>9 km NNE of Quinlan, Oklahoma</td>\n      <td>2020-11-06 05:15:59.969</td>\n      <td>11</td>\n      <td>6</td>\n      <td>2020</td>\n    </tr>\n    <tr>\n      <th>219988</th>\n      <td>-5.803600</td>\n      <td>146.664500</td>\n      <td>53.940</td>\n      <td>4.40</td>\n      <td>NaN</td>\n      <td>298</td>\n      <td>NaN</td>\n      <td>103 km ENE of Kainantu, Papua New Guinea</td>\n      <td>2020-11-06 05:15:39.471</td>\n      <td>11</td>\n      <td>6</td>\n      <td>2020</td>\n    </tr>\n  </tbody>\n</table>\n<p>219989 rows × 12 columns</p>\n</div>"
     },
     "metadata": {},
     "execution_count": 7
    }
   ],
   "source": [
    "# Print dataframe\n",
    "\n",
    "data_df= data_df[[\"Lat\",\"Lng\",\"Depth\",\"Mag\",\"MMI\",\"Sig\",\"Felt\",\"Place\",\"Time\",\"Month\",\"Day\",\"Year\"]]\n",
    "\n",
    "data_df"
   ]
  },
  {
   "cell_type": "code",
   "execution_count": 6,
   "metadata": {},
   "outputs": [],
   "source": [
    "data_df.to_csv(\"output_data/earthquake_data_2010-20.csv\", index= False)"
   ]
  },
  {
   "cell_type": "code",
   "execution_count": null,
   "metadata": {},
   "outputs": [],
   "source": []
  }
 ],
 "metadata": {
  "kernelspec": {
   "display_name": "Python [conda env:.conda-PythonData]*",
   "language": "python",
   "name": "myenv"
  },
  "language_info": {
   "codemirror_mode": {
    "name": "ipython",
    "version": 3
   },
   "file_extension": ".py",
   "mimetype": "text/x-python",
   "name": "python",
   "nbconvert_exporter": "python",
   "pygments_lexer": "ipython3",
   "version": "3.8.5-final"
  }
 },
 "nbformat": 4,
 "nbformat_minor": 4
}